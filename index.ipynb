{
 "cells": [
  {
   "cell_type": "markdown",
   "metadata": {},
   "source": [
    "# Web Scraping with Beautiful Soup - Lab"
   ]
  },
  {
   "cell_type": "markdown",
   "metadata": {},
   "source": [
    "## Introduction\n",
    "\n",
    "Now that you've read and seen some docmentation regarding the use of Beautiful Soup, its time to practice and put that to work! In this lab you'll formalize some of our example code into functions and scrape the lyrics from an artist of your choice."
   ]
  },
  {
   "cell_type": "markdown",
   "metadata": {},
   "source": [
    "## Objectives\n",
    "You will be able to:\n",
    "* Scrape Static webpages\n",
    "* Select specific elements from the DOM"
   ]
  },
  {
   "cell_type": "markdown",
   "metadata": {},
   "source": [
    "## Link Scraping\n",
    "\n",
    "Write a function to collect the links to each of the song pages from a given artist page."
   ]
  },
  {
   "cell_type": "code",
   "execution_count": 1,
   "metadata": {
    "scrolled": true
   },
   "outputs": [
    {
     "name": "stdout",
     "output_type": "stream",
     "text": [
      "Collecting bs4\n",
      "  Downloading https://files.pythonhosted.org/packages/10/ed/7e8b97591f6f456174139ec089c769f89a94a1a4025fe967691de971f314/bs4-0.0.1.tar.gz\n",
      "Collecting beautifulsoup4 (from bs4)\n",
      "\u001b[?25l  Downloading https://files.pythonhosted.org/packages/1d/5d/3260694a59df0ec52f8b4883f5d23b130bc237602a1411fa670eae12351e/beautifulsoup4-4.7.1-py3-none-any.whl (94kB)\n",
      "\u001b[K    100% |████████████████████████████████| 102kB 12.0MB/s a 0:00:01\n",
      "\u001b[?25hCollecting soupsieve>=1.2 (from beautifulsoup4->bs4)\n",
      "  Downloading https://files.pythonhosted.org/packages/bf/b3/2473abf05c4950c6a829ed5dcbc40d8b56d4351d15d6939c8ffb7c6b1a14/soupsieve-1.7.3-py2.py3-none-any.whl\n",
      "Building wheels for collected packages: bs4\n",
      "  Running setup.py bdist_wheel for bs4 ... \u001b[?25ldone\n",
      "\u001b[?25h  Stored in directory: /home/plucky-loop-3929/.cache/pip/wheels/a0/b0/b2/4f80b9456b87abedbc0bf2d52235414c3467d8889be38dd472\n",
      "Successfully built bs4\n",
      "Installing collected packages: soupsieve, beautifulsoup4, bs4\n",
      "Successfully installed beautifulsoup4-4.7.1 bs4-0.0.1 soupsieve-1.7.3\n",
      "\u001b[33mYou are using pip version 10.0.1, however version 19.0.2 is available.\n",
      "You should consider upgrading via the 'pip install --upgrade pip' command.\u001b[0m\n"
     ]
    }
   ],
   "source": [
    "#Starter Code\n",
    "!pip install bs4 \n",
    "from bs4 import BeautifulSoup\n",
    "import requests"
   ]
  },
  {
   "cell_type": "code",
   "execution_count": 2,
   "metadata": {},
   "outputs": [
    {
     "ename": "ConnectionError",
     "evalue": "('Connection aborted.', RemoteDisconnected('Remote end closed connection without response',))",
     "output_type": "error",
     "traceback": [
      "\u001b[0;31m\u001b[0m",
      "\u001b[0;31mRemoteDisconnected\u001b[0mTraceback (most recent call last)",
      "\u001b[0;32m/opt/conda/envs/learn-env/lib/python3.6/site-packages/urllib3/connectionpool.py\u001b[0m in \u001b[0;36murlopen\u001b[0;34m(self, method, url, body, headers, retries, redirect, assert_same_host, timeout, pool_timeout, release_conn, chunked, body_pos, **response_kw)\u001b[0m\n\u001b[1;32m    599\u001b[0m                                                   \u001b[0mbody\u001b[0m\u001b[0;34m=\u001b[0m\u001b[0mbody\u001b[0m\u001b[0;34m,\u001b[0m \u001b[0mheaders\u001b[0m\u001b[0;34m=\u001b[0m\u001b[0mheaders\u001b[0m\u001b[0;34m,\u001b[0m\u001b[0;34m\u001b[0m\u001b[0m\n\u001b[0;32m--> 600\u001b[0;31m                                                   chunked=chunked)\n\u001b[0m\u001b[1;32m    601\u001b[0m \u001b[0;34m\u001b[0m\u001b[0m\n",
      "\u001b[0;32m/opt/conda/envs/learn-env/lib/python3.6/site-packages/urllib3/connectionpool.py\u001b[0m in \u001b[0;36m_make_request\u001b[0;34m(self, conn, method, url, timeout, chunked, **httplib_request_kw)\u001b[0m\n\u001b[1;32m    383\u001b[0m                     \u001b[0;31m# otherwise it looks like a programming error was the cause.\u001b[0m\u001b[0;34m\u001b[0m\u001b[0;34m\u001b[0m\u001b[0m\n\u001b[0;32m--> 384\u001b[0;31m                     \u001b[0msix\u001b[0m\u001b[0;34m.\u001b[0m\u001b[0mraise_from\u001b[0m\u001b[0;34m(\u001b[0m\u001b[0me\u001b[0m\u001b[0;34m,\u001b[0m \u001b[0;32mNone\u001b[0m\u001b[0;34m)\u001b[0m\u001b[0;34m\u001b[0m\u001b[0m\n\u001b[0m\u001b[1;32m    385\u001b[0m         \u001b[0;32mexcept\u001b[0m \u001b[0;34m(\u001b[0m\u001b[0mSocketTimeout\u001b[0m\u001b[0;34m,\u001b[0m \u001b[0mBaseSSLError\u001b[0m\u001b[0;34m,\u001b[0m \u001b[0mSocketError\u001b[0m\u001b[0;34m)\u001b[0m \u001b[0;32mas\u001b[0m \u001b[0me\u001b[0m\u001b[0;34m:\u001b[0m\u001b[0;34m\u001b[0m\u001b[0m\n",
      "\u001b[0;32m/opt/conda/envs/learn-env/lib/python3.6/site-packages/urllib3/packages/six.py\u001b[0m in \u001b[0;36mraise_from\u001b[0;34m(value, from_value)\u001b[0m\n",
      "\u001b[0;32m/opt/conda/envs/learn-env/lib/python3.6/site-packages/urllib3/connectionpool.py\u001b[0m in \u001b[0;36m_make_request\u001b[0;34m(self, conn, method, url, timeout, chunked, **httplib_request_kw)\u001b[0m\n\u001b[1;32m    379\u001b[0m                 \u001b[0;32mtry\u001b[0m\u001b[0;34m:\u001b[0m\u001b[0;34m\u001b[0m\u001b[0m\n\u001b[0;32m--> 380\u001b[0;31m                     \u001b[0mhttplib_response\u001b[0m \u001b[0;34m=\u001b[0m \u001b[0mconn\u001b[0m\u001b[0;34m.\u001b[0m\u001b[0mgetresponse\u001b[0m\u001b[0;34m(\u001b[0m\u001b[0;34m)\u001b[0m\u001b[0;34m\u001b[0m\u001b[0m\n\u001b[0m\u001b[1;32m    381\u001b[0m                 \u001b[0;32mexcept\u001b[0m \u001b[0mException\u001b[0m \u001b[0;32mas\u001b[0m \u001b[0me\u001b[0m\u001b[0;34m:\u001b[0m\u001b[0;34m\u001b[0m\u001b[0m\n",
      "\u001b[0;32m/opt/conda/envs/learn-env/lib/python3.6/http/client.py\u001b[0m in \u001b[0;36mgetresponse\u001b[0;34m(self)\u001b[0m\n\u001b[1;32m   1330\u001b[0m             \u001b[0;32mtry\u001b[0m\u001b[0;34m:\u001b[0m\u001b[0;34m\u001b[0m\u001b[0m\n\u001b[0;32m-> 1331\u001b[0;31m                 \u001b[0mresponse\u001b[0m\u001b[0;34m.\u001b[0m\u001b[0mbegin\u001b[0m\u001b[0;34m(\u001b[0m\u001b[0;34m)\u001b[0m\u001b[0;34m\u001b[0m\u001b[0m\n\u001b[0m\u001b[1;32m   1332\u001b[0m             \u001b[0;32mexcept\u001b[0m \u001b[0mConnectionError\u001b[0m\u001b[0;34m:\u001b[0m\u001b[0;34m\u001b[0m\u001b[0m\n",
      "\u001b[0;32m/opt/conda/envs/learn-env/lib/python3.6/http/client.py\u001b[0m in \u001b[0;36mbegin\u001b[0;34m(self)\u001b[0m\n\u001b[1;32m    296\u001b[0m         \u001b[0;32mwhile\u001b[0m \u001b[0;32mTrue\u001b[0m\u001b[0;34m:\u001b[0m\u001b[0;34m\u001b[0m\u001b[0m\n\u001b[0;32m--> 297\u001b[0;31m             \u001b[0mversion\u001b[0m\u001b[0;34m,\u001b[0m \u001b[0mstatus\u001b[0m\u001b[0;34m,\u001b[0m \u001b[0mreason\u001b[0m \u001b[0;34m=\u001b[0m \u001b[0mself\u001b[0m\u001b[0;34m.\u001b[0m\u001b[0m_read_status\u001b[0m\u001b[0;34m(\u001b[0m\u001b[0;34m)\u001b[0m\u001b[0;34m\u001b[0m\u001b[0m\n\u001b[0m\u001b[1;32m    298\u001b[0m             \u001b[0;32mif\u001b[0m \u001b[0mstatus\u001b[0m \u001b[0;34m!=\u001b[0m \u001b[0mCONTINUE\u001b[0m\u001b[0;34m:\u001b[0m\u001b[0;34m\u001b[0m\u001b[0m\n",
      "\u001b[0;32m/opt/conda/envs/learn-env/lib/python3.6/http/client.py\u001b[0m in \u001b[0;36m_read_status\u001b[0;34m(self)\u001b[0m\n\u001b[1;32m    265\u001b[0m             \u001b[0;31m# sending a valid response.\u001b[0m\u001b[0;34m\u001b[0m\u001b[0;34m\u001b[0m\u001b[0m\n\u001b[0;32m--> 266\u001b[0;31m             raise RemoteDisconnected(\"Remote end closed connection without\"\n\u001b[0m\u001b[1;32m    267\u001b[0m                                      \" response\")\n",
      "\u001b[0;31mRemoteDisconnected\u001b[0m: Remote end closed connection without response",
      "\nDuring handling of the above exception, another exception occurred:\n",
      "\u001b[0;31mProtocolError\u001b[0mTraceback (most recent call last)",
      "\u001b[0;32m/opt/conda/envs/learn-env/lib/python3.6/site-packages/requests/adapters.py\u001b[0m in \u001b[0;36msend\u001b[0;34m(self, request, stream, timeout, verify, cert, proxies)\u001b[0m\n\u001b[1;32m    444\u001b[0m                     \u001b[0mretries\u001b[0m\u001b[0;34m=\u001b[0m\u001b[0mself\u001b[0m\u001b[0;34m.\u001b[0m\u001b[0mmax_retries\u001b[0m\u001b[0;34m,\u001b[0m\u001b[0;34m\u001b[0m\u001b[0m\n\u001b[0;32m--> 445\u001b[0;31m                     \u001b[0mtimeout\u001b[0m\u001b[0;34m=\u001b[0m\u001b[0mtimeout\u001b[0m\u001b[0;34m\u001b[0m\u001b[0m\n\u001b[0m\u001b[1;32m    446\u001b[0m                 )\n",
      "\u001b[0;32m/opt/conda/envs/learn-env/lib/python3.6/site-packages/urllib3/connectionpool.py\u001b[0m in \u001b[0;36murlopen\u001b[0;34m(self, method, url, body, headers, retries, redirect, assert_same_host, timeout, pool_timeout, release_conn, chunked, body_pos, **response_kw)\u001b[0m\n\u001b[1;32m    637\u001b[0m             retries = retries.increment(method, url, error=e, _pool=self,\n\u001b[0;32m--> 638\u001b[0;31m                                         _stacktrace=sys.exc_info()[2])\n\u001b[0m\u001b[1;32m    639\u001b[0m             \u001b[0mretries\u001b[0m\u001b[0;34m.\u001b[0m\u001b[0msleep\u001b[0m\u001b[0;34m(\u001b[0m\u001b[0;34m)\u001b[0m\u001b[0;34m\u001b[0m\u001b[0m\n",
      "\u001b[0;32m/opt/conda/envs/learn-env/lib/python3.6/site-packages/urllib3/util/retry.py\u001b[0m in \u001b[0;36mincrement\u001b[0;34m(self, method, url, response, error, _pool, _stacktrace)\u001b[0m\n\u001b[1;32m    366\u001b[0m             \u001b[0;32mif\u001b[0m \u001b[0mread\u001b[0m \u001b[0;32mis\u001b[0m \u001b[0;32mFalse\u001b[0m \u001b[0;32mor\u001b[0m \u001b[0;32mnot\u001b[0m \u001b[0mself\u001b[0m\u001b[0;34m.\u001b[0m\u001b[0m_is_method_retryable\u001b[0m\u001b[0;34m(\u001b[0m\u001b[0mmethod\u001b[0m\u001b[0;34m)\u001b[0m\u001b[0;34m:\u001b[0m\u001b[0;34m\u001b[0m\u001b[0m\n\u001b[0;32m--> 367\u001b[0;31m                 \u001b[0;32mraise\u001b[0m \u001b[0msix\u001b[0m\u001b[0;34m.\u001b[0m\u001b[0mreraise\u001b[0m\u001b[0;34m(\u001b[0m\u001b[0mtype\u001b[0m\u001b[0;34m(\u001b[0m\u001b[0merror\u001b[0m\u001b[0;34m)\u001b[0m\u001b[0;34m,\u001b[0m \u001b[0merror\u001b[0m\u001b[0;34m,\u001b[0m \u001b[0m_stacktrace\u001b[0m\u001b[0;34m)\u001b[0m\u001b[0;34m\u001b[0m\u001b[0m\n\u001b[0m\u001b[1;32m    368\u001b[0m             \u001b[0;32melif\u001b[0m \u001b[0mread\u001b[0m \u001b[0;32mis\u001b[0m \u001b[0;32mnot\u001b[0m \u001b[0;32mNone\u001b[0m\u001b[0;34m:\u001b[0m\u001b[0;34m\u001b[0m\u001b[0m\n",
      "\u001b[0;32m/opt/conda/envs/learn-env/lib/python3.6/site-packages/urllib3/packages/six.py\u001b[0m in \u001b[0;36mreraise\u001b[0;34m(tp, value, tb)\u001b[0m\n\u001b[1;32m    684\u001b[0m         \u001b[0;32mif\u001b[0m \u001b[0mvalue\u001b[0m\u001b[0;34m.\u001b[0m\u001b[0m__traceback__\u001b[0m \u001b[0;32mis\u001b[0m \u001b[0;32mnot\u001b[0m \u001b[0mtb\u001b[0m\u001b[0;34m:\u001b[0m\u001b[0;34m\u001b[0m\u001b[0m\n\u001b[0;32m--> 685\u001b[0;31m             \u001b[0;32mraise\u001b[0m \u001b[0mvalue\u001b[0m\u001b[0;34m.\u001b[0m\u001b[0mwith_traceback\u001b[0m\u001b[0;34m(\u001b[0m\u001b[0mtb\u001b[0m\u001b[0;34m)\u001b[0m\u001b[0;34m\u001b[0m\u001b[0m\n\u001b[0m\u001b[1;32m    686\u001b[0m         \u001b[0;32mraise\u001b[0m \u001b[0mvalue\u001b[0m\u001b[0;34m\u001b[0m\u001b[0m\n",
      "\u001b[0;32m/opt/conda/envs/learn-env/lib/python3.6/site-packages/urllib3/connectionpool.py\u001b[0m in \u001b[0;36murlopen\u001b[0;34m(self, method, url, body, headers, retries, redirect, assert_same_host, timeout, pool_timeout, release_conn, chunked, body_pos, **response_kw)\u001b[0m\n\u001b[1;32m    599\u001b[0m                                                   \u001b[0mbody\u001b[0m\u001b[0;34m=\u001b[0m\u001b[0mbody\u001b[0m\u001b[0;34m,\u001b[0m \u001b[0mheaders\u001b[0m\u001b[0;34m=\u001b[0m\u001b[0mheaders\u001b[0m\u001b[0;34m,\u001b[0m\u001b[0;34m\u001b[0m\u001b[0m\n\u001b[0;32m--> 600\u001b[0;31m                                                   chunked=chunked)\n\u001b[0m\u001b[1;32m    601\u001b[0m \u001b[0;34m\u001b[0m\u001b[0m\n",
      "\u001b[0;32m/opt/conda/envs/learn-env/lib/python3.6/site-packages/urllib3/connectionpool.py\u001b[0m in \u001b[0;36m_make_request\u001b[0;34m(self, conn, method, url, timeout, chunked, **httplib_request_kw)\u001b[0m\n\u001b[1;32m    383\u001b[0m                     \u001b[0;31m# otherwise it looks like a programming error was the cause.\u001b[0m\u001b[0;34m\u001b[0m\u001b[0;34m\u001b[0m\u001b[0m\n\u001b[0;32m--> 384\u001b[0;31m                     \u001b[0msix\u001b[0m\u001b[0;34m.\u001b[0m\u001b[0mraise_from\u001b[0m\u001b[0;34m(\u001b[0m\u001b[0me\u001b[0m\u001b[0;34m,\u001b[0m \u001b[0;32mNone\u001b[0m\u001b[0;34m)\u001b[0m\u001b[0;34m\u001b[0m\u001b[0m\n\u001b[0m\u001b[1;32m    385\u001b[0m         \u001b[0;32mexcept\u001b[0m \u001b[0;34m(\u001b[0m\u001b[0mSocketTimeout\u001b[0m\u001b[0;34m,\u001b[0m \u001b[0mBaseSSLError\u001b[0m\u001b[0;34m,\u001b[0m \u001b[0mSocketError\u001b[0m\u001b[0;34m)\u001b[0m \u001b[0;32mas\u001b[0m \u001b[0me\u001b[0m\u001b[0;34m:\u001b[0m\u001b[0;34m\u001b[0m\u001b[0m\n",
      "\u001b[0;32m/opt/conda/envs/learn-env/lib/python3.6/site-packages/urllib3/packages/six.py\u001b[0m in \u001b[0;36mraise_from\u001b[0;34m(value, from_value)\u001b[0m\n",
      "\u001b[0;32m/opt/conda/envs/learn-env/lib/python3.6/site-packages/urllib3/connectionpool.py\u001b[0m in \u001b[0;36m_make_request\u001b[0;34m(self, conn, method, url, timeout, chunked, **httplib_request_kw)\u001b[0m\n\u001b[1;32m    379\u001b[0m                 \u001b[0;32mtry\u001b[0m\u001b[0;34m:\u001b[0m\u001b[0;34m\u001b[0m\u001b[0m\n\u001b[0;32m--> 380\u001b[0;31m                     \u001b[0mhttplib_response\u001b[0m \u001b[0;34m=\u001b[0m \u001b[0mconn\u001b[0m\u001b[0;34m.\u001b[0m\u001b[0mgetresponse\u001b[0m\u001b[0;34m(\u001b[0m\u001b[0;34m)\u001b[0m\u001b[0;34m\u001b[0m\u001b[0m\n\u001b[0m\u001b[1;32m    381\u001b[0m                 \u001b[0;32mexcept\u001b[0m \u001b[0mException\u001b[0m \u001b[0;32mas\u001b[0m \u001b[0me\u001b[0m\u001b[0;34m:\u001b[0m\u001b[0;34m\u001b[0m\u001b[0m\n",
      "\u001b[0;32m/opt/conda/envs/learn-env/lib/python3.6/http/client.py\u001b[0m in \u001b[0;36mgetresponse\u001b[0;34m(self)\u001b[0m\n\u001b[1;32m   1330\u001b[0m             \u001b[0;32mtry\u001b[0m\u001b[0;34m:\u001b[0m\u001b[0;34m\u001b[0m\u001b[0m\n\u001b[0;32m-> 1331\u001b[0;31m                 \u001b[0mresponse\u001b[0m\u001b[0;34m.\u001b[0m\u001b[0mbegin\u001b[0m\u001b[0;34m(\u001b[0m\u001b[0;34m)\u001b[0m\u001b[0;34m\u001b[0m\u001b[0m\n\u001b[0m\u001b[1;32m   1332\u001b[0m             \u001b[0;32mexcept\u001b[0m \u001b[0mConnectionError\u001b[0m\u001b[0;34m:\u001b[0m\u001b[0;34m\u001b[0m\u001b[0m\n",
      "\u001b[0;32m/opt/conda/envs/learn-env/lib/python3.6/http/client.py\u001b[0m in \u001b[0;36mbegin\u001b[0;34m(self)\u001b[0m\n\u001b[1;32m    296\u001b[0m         \u001b[0;32mwhile\u001b[0m \u001b[0;32mTrue\u001b[0m\u001b[0;34m:\u001b[0m\u001b[0;34m\u001b[0m\u001b[0m\n\u001b[0;32m--> 297\u001b[0;31m             \u001b[0mversion\u001b[0m\u001b[0;34m,\u001b[0m \u001b[0mstatus\u001b[0m\u001b[0;34m,\u001b[0m \u001b[0mreason\u001b[0m \u001b[0;34m=\u001b[0m \u001b[0mself\u001b[0m\u001b[0;34m.\u001b[0m\u001b[0m_read_status\u001b[0m\u001b[0;34m(\u001b[0m\u001b[0;34m)\u001b[0m\u001b[0;34m\u001b[0m\u001b[0m\n\u001b[0m\u001b[1;32m    298\u001b[0m             \u001b[0;32mif\u001b[0m \u001b[0mstatus\u001b[0m \u001b[0;34m!=\u001b[0m \u001b[0mCONTINUE\u001b[0m\u001b[0;34m:\u001b[0m\u001b[0;34m\u001b[0m\u001b[0m\n",
      "\u001b[0;32m/opt/conda/envs/learn-env/lib/python3.6/http/client.py\u001b[0m in \u001b[0;36m_read_status\u001b[0;34m(self)\u001b[0m\n\u001b[1;32m    265\u001b[0m             \u001b[0;31m# sending a valid response.\u001b[0m\u001b[0;34m\u001b[0m\u001b[0;34m\u001b[0m\u001b[0m\n\u001b[0;32m--> 266\u001b[0;31m             raise RemoteDisconnected(\"Remote end closed connection without\"\n\u001b[0m\u001b[1;32m    267\u001b[0m                                      \" response\")\n",
      "\u001b[0;31mProtocolError\u001b[0m: ('Connection aborted.', RemoteDisconnected('Remote end closed connection without response',))",
      "\nDuring handling of the above exception, another exception occurred:\n",
      "\u001b[0;31mConnectionError\u001b[0mTraceback (most recent call last)",
      "\u001b[0;32m<ipython-input-2-0e76cfe8b798>\u001b[0m in \u001b[0;36m<module>\u001b[0;34m()\u001b[0m\n\u001b[1;32m      1\u001b[0m \u001b[0murl\u001b[0m \u001b[0;34m=\u001b[0m \u001b[0;34m'https://www.azlyrics.com/b/bobseger.html'\u001b[0m \u001b[0;31m#Put the URL of your AZLyrics Artist Page here!\u001b[0m\u001b[0;34m\u001b[0m\u001b[0m\n\u001b[1;32m      2\u001b[0m \u001b[0;34m\u001b[0m\u001b[0m\n\u001b[0;32m----> 3\u001b[0;31m \u001b[0mhtml_page\u001b[0m \u001b[0;34m=\u001b[0m \u001b[0mrequests\u001b[0m\u001b[0;34m.\u001b[0m\u001b[0mget\u001b[0m\u001b[0;34m(\u001b[0m\u001b[0murl\u001b[0m\u001b[0;34m)\u001b[0m \u001b[0;31m#Make a get request to retrieve the page\u001b[0m\u001b[0;34m\u001b[0m\u001b[0m\n\u001b[0m\u001b[1;32m      4\u001b[0m \u001b[0msoup\u001b[0m \u001b[0;34m=\u001b[0m \u001b[0mBeautifulSoup\u001b[0m\u001b[0;34m(\u001b[0m\u001b[0mhtml_page\u001b[0m\u001b[0;34m.\u001b[0m\u001b[0mcontent\u001b[0m\u001b[0;34m,\u001b[0m \u001b[0;34m'html.parser'\u001b[0m\u001b[0;34m)\u001b[0m \u001b[0;31m#Pass the page contents to beautiful soup for parsing\u001b[0m\u001b[0;34m\u001b[0m\u001b[0m\n\u001b[1;32m      5\u001b[0m \u001b[0;34m\u001b[0m\u001b[0m\n",
      "\u001b[0;32m/opt/conda/envs/learn-env/lib/python3.6/site-packages/requests/api.py\u001b[0m in \u001b[0;36mget\u001b[0;34m(url, params, **kwargs)\u001b[0m\n\u001b[1;32m     70\u001b[0m \u001b[0;34m\u001b[0m\u001b[0m\n\u001b[1;32m     71\u001b[0m     \u001b[0mkwargs\u001b[0m\u001b[0;34m.\u001b[0m\u001b[0msetdefault\u001b[0m\u001b[0;34m(\u001b[0m\u001b[0;34m'allow_redirects'\u001b[0m\u001b[0;34m,\u001b[0m \u001b[0;32mTrue\u001b[0m\u001b[0;34m)\u001b[0m\u001b[0;34m\u001b[0m\u001b[0m\n\u001b[0;32m---> 72\u001b[0;31m     \u001b[0;32mreturn\u001b[0m \u001b[0mrequest\u001b[0m\u001b[0;34m(\u001b[0m\u001b[0;34m'get'\u001b[0m\u001b[0;34m,\u001b[0m \u001b[0murl\u001b[0m\u001b[0;34m,\u001b[0m \u001b[0mparams\u001b[0m\u001b[0;34m=\u001b[0m\u001b[0mparams\u001b[0m\u001b[0;34m,\u001b[0m \u001b[0;34m**\u001b[0m\u001b[0mkwargs\u001b[0m\u001b[0;34m)\u001b[0m\u001b[0;34m\u001b[0m\u001b[0m\n\u001b[0m\u001b[1;32m     73\u001b[0m \u001b[0;34m\u001b[0m\u001b[0m\n\u001b[1;32m     74\u001b[0m \u001b[0;34m\u001b[0m\u001b[0m\n",
      "\u001b[0;32m/opt/conda/envs/learn-env/lib/python3.6/site-packages/requests/api.py\u001b[0m in \u001b[0;36mrequest\u001b[0;34m(method, url, **kwargs)\u001b[0m\n\u001b[1;32m     56\u001b[0m     \u001b[0;31m# cases, and look like a memory leak in others.\u001b[0m\u001b[0;34m\u001b[0m\u001b[0;34m\u001b[0m\u001b[0m\n\u001b[1;32m     57\u001b[0m     \u001b[0;32mwith\u001b[0m \u001b[0msessions\u001b[0m\u001b[0;34m.\u001b[0m\u001b[0mSession\u001b[0m\u001b[0;34m(\u001b[0m\u001b[0;34m)\u001b[0m \u001b[0;32mas\u001b[0m \u001b[0msession\u001b[0m\u001b[0;34m:\u001b[0m\u001b[0;34m\u001b[0m\u001b[0m\n\u001b[0;32m---> 58\u001b[0;31m         \u001b[0;32mreturn\u001b[0m \u001b[0msession\u001b[0m\u001b[0;34m.\u001b[0m\u001b[0mrequest\u001b[0m\u001b[0;34m(\u001b[0m\u001b[0mmethod\u001b[0m\u001b[0;34m=\u001b[0m\u001b[0mmethod\u001b[0m\u001b[0;34m,\u001b[0m \u001b[0murl\u001b[0m\u001b[0;34m=\u001b[0m\u001b[0murl\u001b[0m\u001b[0;34m,\u001b[0m \u001b[0;34m**\u001b[0m\u001b[0mkwargs\u001b[0m\u001b[0;34m)\u001b[0m\u001b[0;34m\u001b[0m\u001b[0m\n\u001b[0m\u001b[1;32m     59\u001b[0m \u001b[0;34m\u001b[0m\u001b[0m\n\u001b[1;32m     60\u001b[0m \u001b[0;34m\u001b[0m\u001b[0m\n",
      "\u001b[0;32m/opt/conda/envs/learn-env/lib/python3.6/site-packages/requests/sessions.py\u001b[0m in \u001b[0;36mrequest\u001b[0;34m(self, method, url, params, data, headers, cookies, files, auth, timeout, allow_redirects, proxies, hooks, stream, verify, cert, json)\u001b[0m\n\u001b[1;32m    510\u001b[0m         }\n\u001b[1;32m    511\u001b[0m         \u001b[0msend_kwargs\u001b[0m\u001b[0;34m.\u001b[0m\u001b[0mupdate\u001b[0m\u001b[0;34m(\u001b[0m\u001b[0msettings\u001b[0m\u001b[0;34m)\u001b[0m\u001b[0;34m\u001b[0m\u001b[0m\n\u001b[0;32m--> 512\u001b[0;31m         \u001b[0mresp\u001b[0m \u001b[0;34m=\u001b[0m \u001b[0mself\u001b[0m\u001b[0;34m.\u001b[0m\u001b[0msend\u001b[0m\u001b[0;34m(\u001b[0m\u001b[0mprep\u001b[0m\u001b[0;34m,\u001b[0m \u001b[0;34m**\u001b[0m\u001b[0msend_kwargs\u001b[0m\u001b[0;34m)\u001b[0m\u001b[0;34m\u001b[0m\u001b[0m\n\u001b[0m\u001b[1;32m    513\u001b[0m \u001b[0;34m\u001b[0m\u001b[0m\n\u001b[1;32m    514\u001b[0m         \u001b[0;32mreturn\u001b[0m \u001b[0mresp\u001b[0m\u001b[0;34m\u001b[0m\u001b[0m\n",
      "\u001b[0;32m/opt/conda/envs/learn-env/lib/python3.6/site-packages/requests/sessions.py\u001b[0m in \u001b[0;36msend\u001b[0;34m(self, request, **kwargs)\u001b[0m\n\u001b[1;32m    620\u001b[0m \u001b[0;34m\u001b[0m\u001b[0m\n\u001b[1;32m    621\u001b[0m         \u001b[0;31m# Send the request\u001b[0m\u001b[0;34m\u001b[0m\u001b[0;34m\u001b[0m\u001b[0m\n\u001b[0;32m--> 622\u001b[0;31m         \u001b[0mr\u001b[0m \u001b[0;34m=\u001b[0m \u001b[0madapter\u001b[0m\u001b[0;34m.\u001b[0m\u001b[0msend\u001b[0m\u001b[0;34m(\u001b[0m\u001b[0mrequest\u001b[0m\u001b[0;34m,\u001b[0m \u001b[0;34m**\u001b[0m\u001b[0mkwargs\u001b[0m\u001b[0;34m)\u001b[0m\u001b[0;34m\u001b[0m\u001b[0m\n\u001b[0m\u001b[1;32m    623\u001b[0m \u001b[0;34m\u001b[0m\u001b[0m\n\u001b[1;32m    624\u001b[0m         \u001b[0;31m# Total elapsed time of the request (approximately)\u001b[0m\u001b[0;34m\u001b[0m\u001b[0;34m\u001b[0m\u001b[0m\n",
      "\u001b[0;32m/opt/conda/envs/learn-env/lib/python3.6/site-packages/requests/adapters.py\u001b[0m in \u001b[0;36msend\u001b[0;34m(self, request, stream, timeout, verify, cert, proxies)\u001b[0m\n\u001b[1;32m    493\u001b[0m \u001b[0;34m\u001b[0m\u001b[0m\n\u001b[1;32m    494\u001b[0m         \u001b[0;32mexcept\u001b[0m \u001b[0;34m(\u001b[0m\u001b[0mProtocolError\u001b[0m\u001b[0;34m,\u001b[0m \u001b[0msocket\u001b[0m\u001b[0;34m.\u001b[0m\u001b[0merror\u001b[0m\u001b[0;34m)\u001b[0m \u001b[0;32mas\u001b[0m \u001b[0merr\u001b[0m\u001b[0;34m:\u001b[0m\u001b[0;34m\u001b[0m\u001b[0m\n\u001b[0;32m--> 495\u001b[0;31m             \u001b[0;32mraise\u001b[0m \u001b[0mConnectionError\u001b[0m\u001b[0;34m(\u001b[0m\u001b[0merr\u001b[0m\u001b[0;34m,\u001b[0m \u001b[0mrequest\u001b[0m\u001b[0;34m=\u001b[0m\u001b[0mrequest\u001b[0m\u001b[0;34m)\u001b[0m\u001b[0;34m\u001b[0m\u001b[0m\n\u001b[0m\u001b[1;32m    496\u001b[0m \u001b[0;34m\u001b[0m\u001b[0m\n\u001b[1;32m    497\u001b[0m         \u001b[0;32mexcept\u001b[0m \u001b[0mMaxRetryError\u001b[0m \u001b[0;32mas\u001b[0m \u001b[0me\u001b[0m\u001b[0;34m:\u001b[0m\u001b[0;34m\u001b[0m\u001b[0m\n",
      "\u001b[0;31mConnectionError\u001b[0m: ('Connection aborted.', RemoteDisconnected('Remote end closed connection without response',))"
     ]
    }
   ],
   "source": [
    "url = 'https://www.azlyrics.com/b/bobseger.html' #Put the URL of your AZLyrics Artist Page here!\n",
    "\n",
    "html_page = requests.get(url) #Make a get request to retrieve the page\n",
    "soup = BeautifulSoup(html_page.content, 'html.parser') #Pass the page contents to beautiful soup for parsing\n",
    "\n",
    "\n",
    "#The example from our lecture/reading\n",
    "print(soup.prettify()[:1000])"
   ]
  },
  {
   "cell_type": "code",
   "execution_count": 4,
   "metadata": {},
   "outputs": [
    {
     "name": "stdout",
     "output_type": "stream",
     "text": [
      "Number of matches: 23\n",
      "Object type: <class 'bs4.element.ResultSet'>\n",
      "Preview of objects:\n",
      "[<div class=\"album\">album: <b>\"Ramblin' Gamblin' Man\"</b> (1969)</div>, <div class=\"album\">album: <b>\"Noah\"</b> (1969)</div>, <div class=\"album\">album: <b>\"Mongrel\"</b> (1970)</div>]\n"
     ]
    }
   ],
   "source": [
    "albums = soup.find_all(\"div\", class_=\"album\")\n",
    "print('Number of matches: {}'.format(len(albums)))\n",
    "print('Object type: {}'.format(type(albums)))\n",
    "print('Preview of objects:\\n{}'.format(albums[:3]))"
   ]
  },
  {
   "cell_type": "code",
   "execution_count": 5,
   "metadata": {},
   "outputs": [
    {
     "data": {
      "text/plain": [
       "[(\"Ramblin' Gamblin' Man\",\n",
       "  '../lyrics/bobseger/ramblingamblinman.html',\n",
       "  'album: \"Ramblin\\' Gamblin\\' Man\" (1969)'),\n",
       " ('Tales Of Lucy Blue',\n",
       "  '../lyrics/bobseger/talesoflucyblue.html',\n",
       "  'album: \"Ramblin\\' Gamblin\\' Man\" (1969)'),\n",
       " ('Ivory',\n",
       "  '../lyrics/bobseger/ivory.html',\n",
       "  'album: \"Ramblin\\' Gamblin\\' Man\" (1969)'),\n",
       " ('Gone',\n",
       "  '../lyrics/bobseger/gone.html',\n",
       "  'album: \"Ramblin\\' Gamblin\\' Man\" (1969)'),\n",
       " ('Down Home',\n",
       "  '../lyrics/bobseger/downhome.html',\n",
       "  'album: \"Ramblin\\' Gamblin\\' Man\" (1969)'),\n",
       " ('Train Man',\n",
       "  '../lyrics/bobseger/trainman.html',\n",
       "  'album: \"Ramblin\\' Gamblin\\' Man\" (1969)'),\n",
       " ('White Wall',\n",
       "  '../lyrics/bobseger/whitewall.html',\n",
       "  'album: \"Ramblin\\' Gamblin\\' Man\" (1969)'),\n",
       " ('Black Eyed Girl',\n",
       "  '../lyrics/bobseger/blackeyedgirl.html',\n",
       "  'album: \"Ramblin\\' Gamblin\\' Man\" (1969)'),\n",
       " ('2+2=?',\n",
       "  '../lyrics/bobseger/22.html',\n",
       "  'album: \"Ramblin\\' Gamblin\\' Man\" (1969)'),\n",
       " ('The Last Song (Love Needs To Be Loved)',\n",
       "  '../lyrics/bobseger/thelastsongloveneedstobeloved.html',\n",
       "  'album: \"Ramblin\\' Gamblin\\' Man\" (1969)'),\n",
       " ('', None, 'album: \"Ramblin\\' Gamblin\\' Man\" (1969)'),\n",
       " ('Noah', '../lyrics/bobseger/noah.html', 'album: \"Noah\" (1969)'),\n",
       " ('Innervenus Eyes',\n",
       "  '../lyrics/bobseger/innervenuseyes.html',\n",
       "  'album: \"Noah\" (1969)'),\n",
       " ('Lonely Man', '../lyrics/bobseger/lonelyman.html', 'album: \"Noah\" (1969)'),\n",
       " ('Loneliness Is A Feeling',\n",
       "  '../lyrics/bobseger/lonelinessisafeeling.html',\n",
       "  'album: \"Noah\" (1969)'),\n",
       " ('Cat', '../lyrics/bobseger/cat.html', 'album: \"Noah\" (1969)'),\n",
       " (\"Jumpin' Humpin' Hip Hypocrite\",\n",
       "  '../lyrics/bobseger/jumpinhumpinhiphypocrite.html',\n",
       "  'album: \"Noah\" (1969)'),\n",
       " ('Johnson, Lennie',\n",
       "  '../lyrics/bobseger/johnsonlennie.html',\n",
       "  'album: \"Noah\" (1969)'),\n",
       " ('Paint Them A Picture Jane',\n",
       "  '../lyrics/bobseger/paintthemapicturejane.html',\n",
       "  'album: \"Noah\" (1969)'),\n",
       " ('Death Row', '../lyrics/bobseger/deathrow.html', 'album: \"Noah\" (1969)'),\n",
       " ('', None, 'album: \"Noah\" (1969)'),\n",
       " ('Song To Rufus',\n",
       "  '../lyrics/bobseger/songtorufus.html',\n",
       "  'album: \"Mongrel\" (1970)'),\n",
       " ('Evil Edna', '../lyrics/bobseger/eviledna.html', 'album: \"Mongrel\" (1970)')]"
      ]
     },
     "execution_count": 5,
     "metadata": {},
     "output_type": "execute_result"
    }
   ],
   "source": [
    "data = [] #Create a storage container\n",
    "for album_n in range(len(albums)):\n",
    "    #On the last album, we won't be able to look forward\n",
    "    if album_n == len(albums)-1:\n",
    "        cur_album = albums[album_n]\n",
    "        album_songs = cur_album.findNextSiblings('a')\n",
    "        for song in album_songs:\n",
    "            page = song.get('href')\n",
    "            title = song.text\n",
    "            album = cur_album.text\n",
    "            data.append((title, page, album))\n",
    "    else:\n",
    "        cur_album = albums[album_n]\n",
    "        next_album = albums[album_n+1]\n",
    "        saca = cur_album.findNextSiblings('a') #songs after current album\n",
    "        sbna = next_album.findPreviousSiblings('a') #songs before next album\n",
    "        album_songs = [song for song in saca if song in sbna] #album songs are those listed after the current album but before the next one!\n",
    "        for song in album_songs:\n",
    "            page = song.get('href')\n",
    "            title = song.text\n",
    "            album = cur_album.text\n",
    "            data.append((title, page, album))\n",
    "data[:23]"
   ]
  },
  {
   "cell_type": "markdown",
   "metadata": {},
   "source": [
    "## Text Scraping\n",
    "Write a secondary function that scrapes the lyrics for each song page."
   ]
  },
  {
   "cell_type": "code",
   "execution_count": 7,
   "metadata": {},
   "outputs": [
    {
     "data": {
      "text/plain": [
       "'<!DOCTYPE html>\\n<html lang=\"en\">\\n <head>\\n  <meta charset=\"utf-8\"/>\\n  <meta content=\"IE=edge\" http-equiv=\"X-UA-Compatible\"/>\\n  <meta content=\"width=device-width, initial-scale=1\" name=\"viewport\"/>\\n  <meta content=\\'Lyrics to \"Beautiful Loser\" song by Bob Seger: He wants to dream like a young man With the wisdom of an old man He wants his home and security He w...\\' name=\"description\"/>\\n  <meta content=\"Beautiful Loser lyrics, Bob Seger Beautiful Loser lyrics, Bob Seger lyrics\" name=\"keywords\"/>\\n  <meta content=\"noarchive\" name=\"robots\"/>\\n  <meta content=\"//www.azlyrics.com/az_logo_tr.png\" property=\"og:image\"/>\\n  <title>\\n   Bob Seger - Beautiful Loser Lyrics | AZLyrics.com\\n  </title>\\n  <link href=\"https://maxcdn.bootstrapcdn.com/bootstrap/3.3.4/css/bootstrap.min.css\" rel=\"stylesheet\"/>\\n  <link href=\"//www.azlyrics.com/bsaz.css\" rel=\"stylesheet\"/>\\n  <!-- HTML5 shim and Respond.js for IE8 support of HTML5 elements and media queries -->\\n  <!--[if lt IE 9]>\\r\\n<script src=\"https://oss.maxcdn.com/html5shiv/3.7.2/html5shiv.min.js\"></script>\\r\\n<script src=\"https://oss.maxcdn.com/respond/1.4.2/respond.min.js\"></script>\\r\\n<![endif]-->\\n  <script type=\"text/javascript\">\\n   ArtistName = \"Bob Seger\";\\r\\nSongName = \"Beautiful Loser\";\\r\\nfunction submitCorrections(){\\r\\n\\tdocument.getElementById(\\'corlyr\\').submit();\\r\\n\\treturn false;\\r\\n}\\n  </script>\\n </head>\\n <body>\\n  <!-- Begin comScore Tag -->\\n  <script>\\n   var _comscore = _comscore || [];\\r\\n  _comscore.push({ c1: \"2\", c2: \"6772046\" });\\r\\n  (function() {\\r\\n    var s = document.createElement(\"script\"), el = document.getElementsByTagName(\"script\")[0]; s.async = true;\\r\\n    s.src = (document.location.protocol == \"https:\" ? \"https://sb\" : \"http://b\") + \".scorecardresearch.com/beacon.js\";\\r\\n    el.parentNode.insertBefore(s, el);\\r\\n  })();\\n  </script>\\n  <noscript>\\n   <img alt=\"\" src=\"https://sb.scorecardresearch.com/p?c1=2&amp;c2=6772046&amp;cv=2.0&amp;cj=1\"/>\\n  </noscript>\\n  <!-- End comScore Tag -->\\n  <div id=\"fb-root\">\\n  </div>\\n  <script>\\n   (function(d, s'"
      ]
     },
     "execution_count": 7,
     "metadata": {},
     "output_type": "execute_result"
    }
   ],
   "source": [
    "#Remember to open up the webpage in a browser and control-click/right-click and go to inspect!\n",
    "from bs4 import BeautifulSoup\n",
    "import requests\n",
    "\n",
    "#Example page\n",
    "url = 'https://www.azlyrics.com/lyrics/bobseger/beautifulloser119359.html'\n",
    "\n",
    "\n",
    "html_page = requests.get(url)\n",
    "soup = BeautifulSoup(html_page.content, 'html.parser')\n",
    "soup.prettify()[:2000]"
   ]
  },
  {
   "cell_type": "markdown",
   "metadata": {},
   "source": [
    "## Synthesizing\n",
    "Create a script using your two functions above to scrape all of the song lyrics for a given artist.\n"
   ]
  },
  {
   "cell_type": "code",
   "execution_count": 7,
   "metadata": {},
   "outputs": [
    {
     "data": {
      "text/plain": [
       "[<a href=\"../lyrics/bobseger/ramblingamblinman.html\" target=\"_blank\">Ramblin' Gamblin' Man</a>,\n",
       " <a href=\"../lyrics/bobseger/talesoflucyblue.html\" target=\"_blank\">Tales Of Lucy Blue</a>,\n",
       " <a href=\"../lyrics/bobseger/ivory.html\" target=\"_blank\">Ivory</a>,\n",
       " <a href=\"../lyrics/bobseger/gone.html\" target=\"_blank\">Gone</a>,\n",
       " <a href=\"../lyrics/bobseger/downhome.html\" target=\"_blank\">Down Home</a>,\n",
       " <a href=\"../lyrics/bobseger/trainman.html\" target=\"_blank\">Train Man</a>,\n",
       " <a href=\"../lyrics/bobseger/whitewall.html\" target=\"_blank\">White Wall</a>,\n",
       " <a href=\"../lyrics/bobseger/blackeyedgirl.html\" target=\"_blank\">Black Eyed Girl</a>,\n",
       " <a href=\"../lyrics/bobseger/22.html\" target=\"_blank\">2+2=?</a>,\n",
       " <a href=\"../lyrics/bobseger/thelastsongloveneedstobeloved.html\" target=\"_blank\">The Last Song (Love Needs To Be Loved)</a>,\n",
       " <a id=\"11268\"></a>,\n",
       " <a href=\"../lyrics/bobseger/noah.html\" target=\"_blank\">Noah</a>,\n",
       " <a href=\"../lyrics/bobseger/innervenuseyes.html\" target=\"_blank\">Innervenus Eyes</a>,\n",
       " <a href=\"../lyrics/bobseger/lonelyman.html\" target=\"_blank\">Lonely Man</a>,\n",
       " <a href=\"../lyrics/bobseger/lonelinessisafeeling.html\" target=\"_blank\">Loneliness Is A Feeling</a>,\n",
       " <a href=\"../lyrics/bobseger/cat.html\" target=\"_blank\">Cat</a>,\n",
       " <a href=\"../lyrics/bobseger/jumpinhumpinhiphypocrite.html\" target=\"_blank\">Jumpin' Humpin' Hip Hypocrite</a>,\n",
       " <a href=\"../lyrics/bobseger/johnsonlennie.html\" target=\"_blank\">Johnson, Lennie</a>,\n",
       " <a href=\"../lyrics/bobseger/paintthemapicturejane.html\" target=\"_blank\">Paint Them A Picture Jane</a>,\n",
       " <a href=\"../lyrics/bobseger/deathrow.html\" target=\"_blank\">Death Row</a>,\n",
       " <a id=\"11267\"></a>,\n",
       " <a href=\"../lyrics/bobseger/songtorufus.html\" target=\"_blank\">Song To Rufus</a>,\n",
       " <a href=\"../lyrics/bobseger/eviledna.html\" target=\"_blank\">Evil Edna</a>,\n",
       " <a href=\"../lyrics/bobseger/highwaychild.html\" target=\"_blank\">Highway Child</a>,\n",
       " <a href=\"../lyrics/bobseger/bigriver.html\" target=\"_blank\">Big River</a>,\n",
       " <a href=\"../lyrics/bobseger/mongrel.html\" target=\"_blank\">Mongrel</a>,\n",
       " <a href=\"../lyrics/bobseger/lucifer.html\" target=\"_blank\">Lucifer</a>,\n",
       " <a href=\"../lyrics/bobseger/teachinblues.html\" target=\"_blank\">Teachin' Blues</a>,\n",
       " <a href=\"../lyrics/bobseger/leaningonmydream.html\" target=\"_blank\">Leaning On My Dream</a>,\n",
       " <a href=\"../lyrics/bobseger/mongreltoo.html\" target=\"_blank\">Mongrel Too</a>,\n",
       " <a href=\"../lyrics/bobseger/riverdeepmountainhigh.html\" target=\"_blank\">River Deep, Mountain High</a>,\n",
       " <a id=\"11266\"></a>,\n",
       " <a href=\"../lyrics/bobseger/thisoldhouse.html\" target=\"_blank\">This Old House</a>,\n",
       " <a href=\"../lyrics/bobseger/brandnewmorning.html\" target=\"_blank\">Brand New Morning</a>,\n",
       " <a href=\"../lyrics/bobseger/maybetoday.html\" target=\"_blank\">Maybe Today</a>,\n",
       " <a href=\"../lyrics/bobseger/sometimes119550.html\" target=\"_blank\">Sometimes</a>,\n",
       " <a href=\"../lyrics/bobseger/youknowwhoyouare.html\" target=\"_blank\">You Know Who You Are</a>,\n",
       " <a href=\"../lyrics/bobseger/railroaddays.html\" target=\"_blank\">Railroad Days</a>,\n",
       " <a href=\"../lyrics/bobseger/louise.html\" target=\"_blank\">Louise</a>,\n",
       " <a href=\"../lyrics/bobseger/songforhim.html\" target=\"_blank\">Song For Him</a>,\n",
       " <a href=\"../lyrics/bobseger/somethinglike.html\" target=\"_blank\">Something Like</a>,\n",
       " <a id=\"11265\"></a>,\n",
       " <a href=\"../lyrics/bobseger/bodiddleywhodoyoulove.html\" target=\"_blank\">Bo Diddley / Who Do You Love?</a>,\n",
       " <a href=\"../lyrics/bobseger/lovetheoneyourewith.html\" target=\"_blank\">Love The One You're With</a>,\n",
       " <a href=\"../lyrics/bobseger/ifiwereacarpenter.html\" target=\"_blank\">If I Were A Carpenter</a>,\n",
       " <a href=\"../lyrics/bobseger/humminbird.html\" target=\"_blank\">Hummin' Bird</a>,\n",
       " <a href=\"../lyrics/bobseger/letitrock119542.html\" target=\"_blank\">Let It Rock</a>,\n",
       " <a href=\"../lyrics/bobseger/turnonyourlovelight.html\" target=\"_blank\">Turn On Your Love Light</a>,\n",
       " <a href=\"../lyrics/bobseger/jamesjesse.html\" target=\"_blank\">James, Jesse</a>,\n",
       " <a href=\"../lyrics/bobseger/someday.html\" target=\"_blank\">Someday</a>,\n",
       " <a href=\"../lyrics/bobseger/heavymusic119546.html\" target=\"_blank\">Heavy Music</a>,\n",
       " <a id=\"11252\"></a>,\n",
       " <a href=\"../lyrics/bobseger/midnightrider.html\" target=\"_blank\">Midnight Rider</a>,\n",
       " <a href=\"../lyrics/bobseger/soiwroteyouasong.html\" target=\"_blank\">So I Wrote You A Song</a>,\n",
       " <a href=\"../lyrics/bobseger/stealer.html\" target=\"_blank\">Stealer</a>,\n",
       " <a href=\"../lyrics/bobseger/rosalie.html\" target=\"_blank\">Rosalie</a>,\n",
       " <a href=\"../lyrics/bobseger/turnthepage119381.html\" target=\"_blank\">Turn The Page</a>,\n",
       " <a href=\"../lyrics/bobseger/backin72.html\" target=\"_blank\">Back In '72</a>,\n",
       " <a href=\"../lyrics/bobseger/neonsky.html\" target=\"_blank\">Neon Sky</a>,\n",
       " <a href=\"../lyrics/bobseger/ivebeenworking119384.html\" target=\"_blank\">I've Been Working</a>,\n",
       " <a href=\"../lyrics/bobseger/ivegottime.html\" target=\"_blank\">I've Got Time</a>,\n",
       " <a id=\"11251\"></a>,\n",
       " <a href=\"../lyrics/bobseger/getoutofdenver119368.html\" target=\"_blank\">Get Out Of Denver</a>,\n",
       " <a href=\"../lyrics/bobseger/longsongcomin.html\" target=\"_blank\">Long Song Comin'</a>,\n",
       " <a href=\"../lyrics/bobseger/needya.html\" target=\"_blank\">Need Ya</a>,\n",
       " <a href=\"../lyrics/bobseger/schoolteacher.html\" target=\"_blank\">School Teacher</a>,\n",
       " <a href=\"../lyrics/bobseger/crossofgold.html\" target=\"_blank\">Cross Of Gold</a>,\n",
       " <a href=\"../lyrics/bobseger/umcuppermiddleclass.html\" target=\"_blank\">U.M.C. (Upper Middle Class)</a>,\n",
       " <a href=\"../lyrics/bobseger/seenalotoffloors.html\" target=\"_blank\">Seen A Lot Of Floors</a>,\n",
       " <a href=\"../lyrics/bobseger/20yearsfromnow.html\" target=\"_blank\">20 Years From Now</a>,\n",
       " <a href=\"../lyrics/bobseger/allyourlove.html\" target=\"_blank\">All Your Love</a>,\n",
       " <a id=\"11250\"></a>,\n",
       " <a href=\"../lyrics/bobseger/beautifulloser119359.html\" target=\"_blank\">Beautiful Loser</a>,\n",
       " <a href=\"../lyrics/bobseger/blacknight.html\" target=\"_blank\">Black Night</a>,\n",
       " <a href=\"../lyrics/bobseger/katmandu119361.html\" target=\"_blank\">Katmandu</a>,\n",
       " <a href=\"../lyrics/bobseger/jodygirl119362.html\" target=\"_blank\">Jody Girl</a>,\n",
       " <a href=\"../lyrics/bobseger/travelinman119363.html\" target=\"_blank\">Travelin' Man</a>,\n",
       " <a href=\"../lyrics/bobseger/momma.html\" target=\"_blank\">Momma</a>,\n",
       " <a href=\"../lyrics/bobseger/nutbushcitylimits119365.html\" target=\"_blank\">Nutbush City Limits</a>,\n",
       " <a href=\"../lyrics/bobseger/sailingnights.html\" target=\"_blank\">Sailing Nights</a>,\n",
       " <a href=\"../lyrics/bobseger/finememory.html\" target=\"_blank\">Fine Memory</a>,\n",
       " <a id=\"11263\"></a>,\n",
       " <a href=\"../lyrics/bobseger/nutbushcitylimits119503.html\" target=\"_blank\">Nutbush City Limits</a>,\n",
       " <a href=\"../lyrics/bobseger/travelinman119504.html\" target=\"_blank\">Travelin' Man</a>,\n",
       " <a href=\"../lyrics/bobseger/beautifulloser.html\" target=\"_blank\">Beautiful Loser</a>,\n",
       " <a href=\"../lyrics/bobseger/jodygirl119506.html\" target=\"_blank\">Jody Girl</a>,\n",
       " <a href=\"../lyrics/bobseger/ivebeenworking119507.html\" target=\"_blank\">I've Been Working</a>,\n",
       " <a href=\"../lyrics/bobseger/turnthepage119508.html\" target=\"_blank\">Turn The Page</a>,\n",
       " <a href=\"../lyrics/bobseger/umcuppermiddleclass.html\" target=\"_blank\">U.M.C. (Upper Middle Class)</a>,\n",
       " <a href=\"../lyrics/bobseger/bodiddleywhodoyoulove.html\" target=\"_blank\">Bo Diddley / Who Do You Love?</a>,\n",
       " <a href=\"../lyrics/bobseger/ramblingamblinman119511.html\" target=\"_blank\">Ramblin' Gamblin' Man</a>,\n",
       " <a href=\"../lyrics/bobseger/heavymusic119512.html\" target=\"_blank\">Heavy Music</a>,\n",
       " <a href=\"../lyrics/bobseger/katmandu.html\" target=\"_blank\">Katmandu</a>,\n",
       " <a href=\"../lyrics/bobseger/lookinback.html\" target=\"_blank\">Lookin' Back</a>,\n",
       " <a href=\"../lyrics/bobseger/getoutofdenver119515.html\" target=\"_blank\">Get Out Of Denver</a>,\n",
       " <a href=\"../lyrics/bobseger/letitrock.html\" target=\"_blank\">Let It Rock</a>,\n",
       " <a id=\"11262\"></a>,\n",
       " <a href=\"../lyrics/bobseger/rockandrollneverforgets.html\" target=\"_blank\">Rock And Roll Never Forgets</a>,\n",
       " <a href=\"../lyrics/bobseger/nightmoves.html\" target=\"_blank\">Night Moves</a>,\n",
       " <a href=\"../lyrics/bobseger/thefiredownbelow.html\" target=\"_blank\">The Fire Down Below</a>,\n",
       " <a href=\"../lyrics/bobseger/sunburst.html\" target=\"_blank\">Sunburst</a>,\n",
       " <a href=\"../lyrics/bobseger/sunspotbaby.html\" target=\"_blank\">Sunspot Baby</a>,\n",
       " <a href=\"../lyrics/bobseger/mainstreet.html\" target=\"_blank\">Mainstreet</a>,\n",
       " <a href=\"../lyrics/bobseger/cometopoppa.html\" target=\"_blank\">Come To Poppa</a>,\n",
       " <a href=\"../lyrics/bobseger/shipoffools.html\" target=\"_blank\">Ship Of Fools</a>,\n",
       " <a href=\"../lyrics/bobseger/marylou.html\" target=\"_blank\">Mary Lou</a>,\n",
       " <a id=\"11261\"></a>,\n",
       " <a href=\"../lyrics/bobseger/hollywoodnights.html\" target=\"_blank\">Hollywood Nights</a>,\n",
       " <a href=\"../lyrics/bobseger/stillthesame.html\" target=\"_blank\">Still The Same</a>,\n",
       " <a href=\"../lyrics/bobseger/oldtimerockandroll.html\" target=\"_blank\">Old Time Rock And Roll</a>,\n",
       " <a href=\"../lyrics/bobseger/tillitshines.html\" target=\"_blank\">Till It Shines</a>,\n",
       " <a href=\"../lyrics/bobseger/feellikeanumber.html\" target=\"_blank\">Feel Like A Number</a>,\n",
       " <a href=\"../lyrics/bobseger/aintgotnomoney.html\" target=\"_blank\">Ain't Got No Money</a>,\n",
       " <a href=\"../lyrics/bobseger/wevegottonight.html\" target=\"_blank\">We've Got Tonight</a>,\n",
       " <a href=\"../lyrics/bobseger/bravestrangers.html\" target=\"_blank\">Brave Strangers</a>,\n",
       " <a href=\"../lyrics/bobseger/thefamousfinalscene.html\" target=\"_blank\">The Famous Final Scene</a>,\n",
       " <a id=\"11260\"></a>,\n",
       " <a href=\"../lyrics/bobseger/thehorizontalbop.html\" target=\"_blank\">The Horizontal Bop</a>,\n",
       " <a href=\"../lyrics/bobseger/youllaccompnyme.html\" target=\"_blank\">You'll Accomp'ny Me</a>,\n",
       " <a href=\"../lyrics/bobseger/herstrut.html\" target=\"_blank\">Her Strut</a>,\n",
       " <a href=\"../lyrics/bobseger/nomansland.html\" target=\"_blank\">No Man's Land</a>,\n",
       " <a href=\"../lyrics/bobseger/longtwinsilverline.html\" target=\"_blank\">Long Twin Silver Line</a>,\n",
       " <a href=\"../lyrics/bobseger/againstthewind.html\" target=\"_blank\">Against The Wind</a>,\n",
       " <a href=\"../lyrics/bobseger/goodforme.html\" target=\"_blank\">Good For Me</a>,\n",
       " <a href=\"../lyrics/bobseger/bettylousgettinouttonight.html\" target=\"_blank\">Betty Lou's Gettin' Out Tonight</a>,\n",
       " <a href=\"../lyrics/bobseger/firelake.html\" target=\"_blank\">Fire Lake</a>,\n",
       " <a href=\"../lyrics/bobseger/shininbrightly.html\" target=\"_blank\">Shinin' Brightly</a>,\n",
       " <a id=\"11259\"></a>,\n",
       " <a href=\"../lyrics/bobseger/ninetonight.html\" target=\"_blank\">Nine Tonight</a>,\n",
       " <a href=\"../lyrics/bobseger/tryintolivemylifewithoutyou.html\" target=\"_blank\">Tryin' To Live My Life Without You</a>,\n",
       " <a href=\"../lyrics/bobseger/youllaccompnyme.html\" target=\"_blank\">You'll Accomp'ny Me</a>,\n",
       " <a href=\"../lyrics/bobseger/hollywoodnights.html\" target=\"_blank\">Hollywood Nights</a>,\n",
       " <a href=\"../lyrics/bobseger/oldtimerockandroll.html\" target=\"_blank\">Old Time Rock And Roll</a>,\n",
       " <a href=\"../lyrics/bobseger/mainstreet.html\" target=\"_blank\">Mainstreet</a>,\n",
       " <a href=\"../lyrics/bobseger/againstthewind.html\" target=\"_blank\">Against The Wind</a>,\n",
       " <a href=\"../lyrics/bobseger/thefiredownbelow.html\" target=\"_blank\">The Fire Down Below</a>,\n",
       " <a href=\"../lyrics/bobseger/herstrut.html\" target=\"_blank\">Her Strut</a>,\n",
       " <a href=\"../lyrics/bobseger/feellikeanumber.html\" target=\"_blank\">Feel Like A Number</a>,\n",
       " <a href=\"../lyrics/bobseger/firelake.html\" target=\"_blank\">Fire Lake</a>,\n",
       " <a href=\"../lyrics/bobseger/bettylousgettinouttonight.html\" target=\"_blank\">Betty Lou's Gettin' Out Tonight</a>,\n",
       " <a href=\"../lyrics/bobseger/wevegottonight.html\" target=\"_blank\">We've Got Tonight</a>,\n",
       " <a href=\"../lyrics/bobseger/nightmoves.html\" target=\"_blank\">Night Moves</a>,\n",
       " <a href=\"../lyrics/bobseger/rockandrollneverforgets.html\" target=\"_blank\">Rock And Roll Never Forgets</a>,\n",
       " <a href=\"../lyrics/bobseger/letitrock.html\" target=\"_blank\">Let It Rock</a>,\n",
       " <a id=\"11258\"></a>,\n",
       " <a href=\"../lyrics/bobseger/evennow.html\" target=\"_blank\">Even Now</a>,\n",
       " <a href=\"../lyrics/bobseger/makinthunderbirds.html\" target=\"_blank\">Makin' Thunderbirds</a>,\n",
       " <a href=\"../lyrics/bobseger/boomtownblues.html\" target=\"_blank\">Boomtown Blues</a>,\n",
       " <a href=\"../lyrics/bobseger/shameonthemoon.html\" target=\"_blank\">Shame On The Moon</a>,\n",
       " <a href=\"../lyrics/bobseger/lovesthelasttoknow.html\" target=\"_blank\">Love's The Last To Know</a>,\n",
       " <a href=\"../lyrics/bobseger/rollmeaway.html\" target=\"_blank\">Roll Me Away</a>,\n",
       " <a href=\"../lyrics/bobseger/housebehindahouse.html\" target=\"_blank\">House Behind A House</a>,\n",
       " <a href=\"../lyrics/bobseger/cominhome.html\" target=\"_blank\">Comin' Home</a>,\n",
       " <a href=\"../lyrics/bobseger/littlevictories.html\" target=\"_blank\">Little Victories</a>,\n",
       " <a id=\"11257\"></a>,\n",
       " <a href=\"../lyrics/bobseger/americanstorm.html\" target=\"_blank\">American Storm</a>,\n",
       " <a href=\"../lyrics/bobseger/likearock.html\" target=\"_blank\">Like A Rock</a>,\n",
       " <a href=\"../lyrics/bobseger/miami.html\" target=\"_blank\">Miami</a>,\n",
       " <a href=\"../lyrics/bobseger/thering.html\" target=\"_blank\">The Ring</a>,\n",
       " <a href=\"../lyrics/bobseger/tightrope.html\" target=\"_blank\">Tightrope</a>,\n",
       " <a href=\"../lyrics/bobseger/theaftermath.html\" target=\"_blank\">The Aftermath</a>,\n",
       " <a href=\"../lyrics/bobseger/sometimes119446.html\" target=\"_blank\">Sometimes</a>,\n",
       " <a href=\"../lyrics/bobseger/itsyou.html\" target=\"_blank\">It's You</a>,\n",
       " <a href=\"../lyrics/bobseger/somewheretonight.html\" target=\"_blank\">Somewhere Tonight</a>,\n",
       " <a href=\"../lyrics/bobseger/fortunateson.html\" target=\"_blank\">Fortunate Son</a>,\n",
       " <a id=\"11256\"></a>,\n",
       " <a href=\"../lyrics/bobseger/takeachance.html\" target=\"_blank\">Take A Chance</a>,\n",
       " <a href=\"../lyrics/bobseger/thereallove.html\" target=\"_blank\">The Real Love</a>,\n",
       " <a href=\"../lyrics/bobseger/sightseeing.html\" target=\"_blank\">Sightseeing</a>,\n",
       " <a href=\"../lyrics/bobseger/realatthetime.html\" target=\"_blank\">Real At The Time</a>,\n",
       " <a href=\"../lyrics/bobseger/alwaysinmyheart.html\" target=\"_blank\">Always In My Heart</a>,\n",
       " <a href=\"../lyrics/bobseger/thefireinside.html\" target=\"_blank\">The Fire Inside</a>,\n",
       " <a href=\"../lyrics/bobseger/newcoatofpaint.html\" target=\"_blank\">New Coat Of Paint</a>,\n",
       " <a href=\"../lyrics/bobseger/whichway.html\" target=\"_blank\">Which Way</a>,\n",
       " <a href=\"../lyrics/bobseger/themountain.html\" target=\"_blank\">The Mountain</a>,\n",
       " <a href=\"../lyrics/bobseger/thelongwayhome.html\" target=\"_blank\">The Long Way Home</a>,\n",
       " <a href=\"../lyrics/bobseger/blindlove.html\" target=\"_blank\">Blind Love</a>,\n",
       " <a href=\"../lyrics/bobseger/shecantdoanythingwrong.html\" target=\"_blank\">She Can't Do Anything Wrong</a>,\n",
       " <a id=\"11255\"></a>,\n",
       " <a href=\"../lyrics/bobseger/rollmeaway.html\" target=\"_blank\">Roll Me Away</a>,\n",
       " <a href=\"../lyrics/bobseger/nightmoves.html\" target=\"_blank\">Night Moves</a>,\n",
       " <a href=\"../lyrics/bobseger/turnthepage.html\" target=\"_blank\">Turn The Page</a>,\n",
       " <a href=\"../lyrics/bobseger/youllaccompnyme.html\" target=\"_blank\">You'll Accomp'ny Me</a>,\n",
       " <a href=\"../lyrics/bobseger/hollywoodnights.html\" target=\"_blank\">Hollywood Nights</a>,\n",
       " <a href=\"../lyrics/bobseger/stillthesame.html\" target=\"_blank\">Still The Same</a>,\n",
       " <a href=\"../lyrics/bobseger/oldtimerockandroll.html\" target=\"_blank\">Old Time Rock And Roll</a>,\n",
       " <a href=\"../lyrics/bobseger/wevegottonight.html\" target=\"_blank\">We've Got Tonight</a>,\n",
       " <a href=\"../lyrics/bobseger/againstthewind.html\" target=\"_blank\">Against The Wind</a>,\n",
       " <a href=\"../lyrics/bobseger/mainstreet.html\" target=\"_blank\">Mainstreet</a>,\n",
       " <a href=\"../lyrics/bobseger/thefireinside.html\" target=\"_blank\">The Fire Inside</a>,\n",
       " <a href=\"../lyrics/bobseger/likearock.html\" target=\"_blank\">Like A Rock</a>,\n",
       " <a href=\"../lyrics/bobseger/cestlavie.html\" target=\"_blank\">C'est La Vie</a>,\n",
       " <a href=\"../lyrics/bobseger/inyourtime.html\" target=\"_blank\">In Your Time</a>,\n",
       " <a id=\"11254\"></a>,\n",
       " <a href=\"../lyrics/bobseger/riteofpassage.html\" target=\"_blank\">Rite Of Passage</a>,\n",
       " <a href=\"../lyrics/bobseger/lockandload.html\" target=\"_blank\">Lock And Load</a>,\n",
       " <a href=\"../lyrics/bobseger/bytheriver.html\" target=\"_blank\">By The River</a>,\n",
       " <a href=\"../lyrics/bobseger/manhattan.html\" target=\"_blank\">Manhattan</a>,\n",
       " <a href=\"../lyrics/bobseger/iwonder.html\" target=\"_blank\">I Wonder</a>,\n",
       " <a href=\"../lyrics/bobseger/itsamystery.html\" target=\"_blank\">It's A Mystery</a>,\n",
       " <a href=\"../lyrics/bobseger/revisionismstreet.html\" target=\"_blank\">Revisionism Street</a>,\n",
       " <a href=\"../lyrics/bobseger/goldenboy.html\" target=\"_blank\">Golden Boy</a>,\n",
       " <a href=\"../lyrics/bobseger/icantsaveyouangelene.html\" target=\"_blank\">I Can't Save You Angelene</a>,\n",
       " <a href=\"../lyrics/bobseger/16shellsfroma306.html\" target=\"_blank\">16 Shells From A 30-6</a>,\n",
       " <a href=\"../lyrics/bobseger/westofthemoon.html\" target=\"_blank\">West Of The Moon</a>,\n",
       " <a href=\"../lyrics/bobseger/handsintheair.html\" target=\"_blank\">Hands In The Air</a>,\n",
       " <a id=\"11253\"></a>,\n",
       " <a href=\"../lyrics/bobseger/understanding.html\" target=\"_blank\">Understanding</a>,\n",
       " <a href=\"../lyrics/bobseger/thefiredownbelow.html\" target=\"_blank\">The Fire Down Below</a>,\n",
       " <a href=\"../lyrics/bobseger/herstrut.html\" target=\"_blank\">Her Strut</a>,\n",
       " <a href=\"../lyrics/bobseger/beautifulloser.html\" target=\"_blank\">Beautiful Loser</a>,\n",
       " <a href=\"../lyrics/bobseger/sunspotbaby.html\" target=\"_blank\">Sunspot Baby</a>,\n",
       " <a href=\"../lyrics/bobseger/katmandu.html\" target=\"_blank\">Katmandu</a>,\n",
       " <a href=\"../lyrics/bobseger/shameonthemoon.html\" target=\"_blank\">Shame On The Moon</a>,\n",
       " <a href=\"../lyrics/bobseger/firelake.html\" target=\"_blank\">Fire Lake</a>,\n",
       " <a href=\"../lyrics/bobseger/tryintolivemylifewithoutyou.html\" target=\"_blank\">Tryin' To Live My Life Without You</a>,\n",
       " <a href=\"../lyrics/bobseger/shakedown.html\" target=\"_blank\">Shakedown</a>,\n",
       " <a href=\"../lyrics/bobseger/manhattan.html\" target=\"_blank\">Manhattan</a>,\n",
       " <a href=\"../lyrics/bobseger/newcoatofpaint.html\" target=\"_blank\">New Coat Of Paint</a>,\n",
       " <a href=\"../lyrics/bobseger/chancesare.html\" target=\"_blank\">Chances Are</a>,\n",
       " <a href=\"../lyrics/bobseger/rockandrollneverforgets.html\" target=\"_blank\">Rock And Roll Never Forgets</a>,\n",
       " <a href=\"../lyrics/bobseger/satisfied.html\" target=\"_blank\">Satisfied</a>,\n",
       " <a href=\"../lyrics/bobseger/tomorrow.html\" target=\"_blank\">Tomorrow</a>,\n",
       " <a id=\"11249\"></a>,\n",
       " <a href=\"../lyrics/bobseger/wreckthisheart.html\" target=\"_blank\">Wreck This Heart</a>,\n",
       " <a href=\"../lyrics/bobseger/waitforme.html\" target=\"_blank\">Wait For Me</a>,\n",
       " <a href=\"../lyrics/bobseger/facethepromise.html\" target=\"_blank\">Face The Promise</a>,\n",
       " <a href=\"../lyrics/bobseger/nomatterwhoyouare.html\" target=\"_blank\">No Matter Who You Are</a>,\n",
       " <a href=\"../lyrics/bobseger/areyou.html\" target=\"_blank\">Are You</a>,\n",
       " <a href=\"../lyrics/bobseger/simplicity.html\" target=\"_blank\">Simplicity</a>,\n",
       " <a href=\"../lyrics/bobseger/nomore.html\" target=\"_blank\">No More</a>,\n",
       " <a href=\"../lyrics/bobseger/realmeanbottle.html\" target=\"_blank\">Real Mean Bottle</a>,\n",
       " <a href=\"../lyrics/bobseger/wontstop.html\" target=\"_blank\">Won't Stop</a>,\n",
       " <a href=\"../lyrics/bobseger/between.html\" target=\"_blank\">Between</a>,\n",
       " <a href=\"../lyrics/bobseger/theanswersinthequestion.html\" target=\"_blank\">The Answer's In The Question</a>,\n",
       " <a href=\"../lyrics/bobseger/thelonggoodbye.html\" target=\"_blank\">The Long Goodbye</a>,\n",
       " <a id=\"34549\"></a>,\n",
       " <a href=\"../lyrics/bobseger/detroitmade.html\" target=\"_blank\">Detroit Made</a>,\n",
       " <a href=\"../lyrics/bobseger/heygypsy.html\" target=\"_blank\">Hey Gypsy</a>,\n",
       " <a href=\"../lyrics/bobseger/thedevilsrighthand.html\" target=\"_blank\">The Devil's Right Hand</a>,\n",
       " <a href=\"../lyrics/bobseger/rideout.html\" target=\"_blank\">Ride Out</a>,\n",
       " <a href=\"../lyrics/bobseger/adamandeve.html\" target=\"_blank\">Adam And Eve</a>,\n",
       " <a href=\"../lyrics/bobseger/californiastars.html\" target=\"_blank\">California Stars</a>,\n",
       " <a href=\"../lyrics/bobseger/itsyourworld.html\" target=\"_blank\">It's Your World</a>,\n",
       " <a href=\"../lyrics/bobseger/alloftheroads.html\" target=\"_blank\">All Of The Roads</a>,\n",
       " <a href=\"../lyrics/bobseger/youtakemein.html\" target=\"_blank\">You Take Me In</a>,\n",
       " <a href=\"../lyrics/bobseger/gatesofeden.html\" target=\"_blank\">Gates Of Eden</a>,\n",
       " <a href=\"../lyrics/bobseger/listen.html\" target=\"_blank\">Listen</a>,\n",
       " <a href=\"../lyrics/bobseger/thefiremanstalkin.html\" target=\"_blank\">The Fireman's Talkin</a>,\n",
       " <a href=\"../lyrics/bobseger/lettheriversrun.html\" target=\"_blank\">Let The Rivers Run</a>,\n",
       " <a id=\"50897\"></a>,\n",
       " <a href=\"../lyrics/bobseger/gracile.html\" target=\"_blank\">Gracile</a>,\n",
       " <a href=\"../lyrics/bobseger/busloadoffaith.html\" target=\"_blank\">Busload Of Faith</a>,\n",
       " <a href=\"../lyrics/bobseger/thehighway.html\" target=\"_blank\">The Highway</a>,\n",
       " <a href=\"../lyrics/bobseger/iknewyouwhen.html\" target=\"_blank\">I Knew You When</a>,\n",
       " <a href=\"../lyrics/bobseger/illrememberyou.html\" target=\"_blank\">I'll Remember You</a>,\n",
       " <a href=\"../lyrics/bobseger/theseainside.html\" target=\"_blank\">The Sea Inside</a>,\n",
       " <a href=\"../lyrics/bobseger/marie.html\" target=\"_blank\">Marie</a>,\n",
       " <a href=\"../lyrics/bobseger/runawaytrain.html\" target=\"_blank\">Runaway Train</a>,\n",
       " <a href=\"../lyrics/bobseger/somethingmore.html\" target=\"_blank\">Something More</a>,\n",
       " <a href=\"../lyrics/bobseger/democracy.html\" target=\"_blank\">Democracy</a>,\n",
       " <a href=\"../lyrics/bobseger/forwardintothepast.html\" target=\"_blank\">Forward Into The Past</a>,\n",
       " <a href=\"../lyrics/bobseger/blueridge.html\" target=\"_blank\">Blue Ridge</a>,\n",
       " <a href=\"../lyrics/bobseger/glennsong.html\" target=\"_blank\">Glenn Song</a>,\n",
       " <a href=\"../lyrics/bobseger/balladoftheyellowberet.html\" target=\"_blank\">Ballad Of The Yellow Beret</a>,\n",
       " <a href=\"../lyrics/bobseger/bluemonday.html\" target=\"_blank\">Blue Monday</a>,\n",
       " <a href=\"../lyrics/bobseger/canthitthecornersnomore.html\" target=\"_blank\">Can't Hit The Corners No More</a>,\n",
       " <a href=\"../lyrics/bobseger/chainsmokin.html\" target=\"_blank\">Chain Smokin'</a>,\n",
       " <a href=\"../lyrics/bobseger/eastla.html\" target=\"_blank\">East L.A.</a>,\n",
       " <a href=\"../lyrics/bobseger/eastsidestory.html\" target=\"_blank\">East Side Story</a>,\n",
       " <a href=\"../lyrics/bobseger/findingout.html\" target=\"_blank\">Finding Out</a>,\n",
       " <a href=\"../lyrics/bobseger/floridatime.html\" target=\"_blank\">Florida Time</a>,\n",
       " <a href=\"../lyrics/bobseger/fullcircle.html\" target=\"_blank\">Full Circle</a>,\n",
       " <a href=\"../lyrics/bobseger/littledrummerboy.html\" target=\"_blank\">Little Drummer Boy</a>,\n",
       " <a href=\"../lyrics/bobseger/livinginsidemyheart.html\" target=\"_blank\">Living Inside My Heart</a>,\n",
       " <a href=\"../lyrics/bobseger/lookingback.html\" target=\"_blank\">Looking Back</a>,\n",
       " <a href=\"../lyrics/bobseger/persecutionsmith.html\" target=\"_blank\">Persecution Smith</a>,\n",
       " <a href=\"../lyrics/bobseger/sockittomesanta.html\" target=\"_blank\">Sock It To Me Santa</a>,\n",
       " <a href=\"../lyrics/bobseger/thelonelyone.html\" target=\"_blank\">The Lonely One</a>,\n",
       " <a href=\"../lyrics/bobseger/vagrantwinter.html\" target=\"_blank\">Vagrant Winter</a>,\n",
       " <a href=\"../lyrics/bobseger/veryfew.html\" target=\"_blank\">Very Few</a>,\n",
       " <a href=\"../lyrics/bobseger/wholelottalove.html\" target=\"_blank\">Whole Lotta Love</a>]"
      ]
     },
     "execution_count": 7,
     "metadata": {},
     "output_type": "execute_result"
    }
   ],
   "source": [
    "#Use this block for your code!\n",
    "album = albums[0]\n",
    "album.findNextSiblings('a')"
   ]
  },
  {
   "cell_type": "code",
   "execution_count": 10,
   "metadata": {},
   "outputs": [
    {
     "data": {
      "text/plain": [
       "[(\"Ramblin' Gamblin' Man\",\n",
       "  '../lyrics/bobseger/ramblingamblinman.html',\n",
       "  'album: \"Ramblin\\' Gamblin\\' Man\" (1969)'),\n",
       " ('Tales Of Lucy Blue',\n",
       "  '../lyrics/bobseger/talesoflucyblue.html',\n",
       "  'album: \"Ramblin\\' Gamblin\\' Man\" (1969)'),\n",
       " ('Ivory',\n",
       "  '../lyrics/bobseger/ivory.html',\n",
       "  'album: \"Ramblin\\' Gamblin\\' Man\" (1969)')]"
      ]
     },
     "execution_count": 10,
     "metadata": {},
     "output_type": "execute_result"
    }
   ],
   "source": [
    "data = [] #Create a storage container\n",
    "for album_n in range(len(albums)):\n",
    "    #On the last album, we won't be able to look forward\n",
    "    if album_n == len(albums)-1:\n",
    "        cur_album = albums[album_n]\n",
    "        album_songs = cur_album.findNextSiblings('a')\n",
    "        for song in album_songs:\n",
    "            page = song.get('href')\n",
    "            title = song.text\n",
    "            album = cur_album.text\n",
    "            data.append((title, page, album))\n",
    "    else:\n",
    "        cur_album = albums[album_n]\n",
    "        next_album = albums[album_n+1]\n",
    "        saca = cur_album.findNextSiblings('a') #songs after current album\n",
    "        sbna = next_album.findPreviousSiblings('a') #songs before next album\n",
    "        album_songs = [song for song in saca if song in sbna] #album songs are those listed after the current album but before the next one!\n",
    "        for song in album_songs:\n",
    "            page = song.get('href')\n",
    "            title = song.text\n",
    "            album = cur_album.text\n",
    "            #lyrics = \n",
    "            data.append((title, page, album,))\n",
    "data[:3]"
   ]
  },
  {
   "cell_type": "code",
   "execution_count": 8,
   "metadata": {},
   "outputs": [],
   "source": [
    "divs = soup.findAll('div')"
   ]
  },
  {
   "cell_type": "code",
   "execution_count": 9,
   "metadata": {},
   "outputs": [],
   "source": [
    "div = divs[0]"
   ]
  },
  {
   "cell_type": "code",
   "execution_count": 10,
   "metadata": {},
   "outputs": [],
   "source": [
    "for n, div in enumerate(divs):\n",
    "    if \"<!-- Usage of azlyrics.com content by any \" in div.text:\n",
    "        print(n)"
   ]
  },
  {
   "cell_type": "code",
   "execution_count": 11,
   "metadata": {},
   "outputs": [],
   "source": [
    "main_page = soup.find('div', {\"class\": \"container main-page\"})\n",
    "main_l2 = main_page.find('div', {\"class\" : \"row\"})\n",
    "main_l3 = main_l2.find('div', {\"class\" : \"col-xs-12 col-lg-8 text-center\"})"
   ]
  },
  {
   "cell_type": "code",
   "execution_count": 12,
   "metadata": {},
   "outputs": [
    {
     "data": {
      "text/plain": [
       "\"\\n\\r\\nHe wants to dream like a young man\\nWith the wisdom of an old man\\nHe wants his home and security\\nHe wants to live like a sailor at sea\\n\\nBeautiful loser\\nWhere you gonna fall?\\nWhen you realize, you just can't have it all\\n\\nHe's your oldest and your best friend\\nIf you need him, he'll be there again\\nHe's always willing to be second-best\\nA perfect lodger, a perfect guest\\n\\nBeautiful loser\\nRead it on the wall\\nAnd realize\\nYou just can't have it all\\n\\nYou just can't have it all\\nYou just can't have it all\\nOhh, ohh, can't have it all\\n\\nYou can try, you can try, but you can't have it all\\noh yeah\\n\\nHe'll never make any enemies, enemies, no\\nHe won't complain if he's caught in a freeze\\nHe'll always ask, he'll always say please\\n\\nBeautiful loser\\nNever take it all\\n'Cause it's easier\\nAnd faster when you fall\\n\\nYou just don't need it all\\nYou just don't need it all\\nYou just don't need it all\\nJust don't need it all\\n\""
      ]
     },
     "execution_count": 12,
     "metadata": {},
     "output_type": "execute_result"
    }
   ],
   "source": [
    "lyrics = main_l3.findAll('div')[6].text\n",
    "lyrics"
   ]
  },
  {
   "cell_type": "code",
   "execution_count": 13,
   "metadata": {},
   "outputs": [],
   "source": [
    "def scrape_lyrics(song_page_url):\n",
    "    html_page = requests.get(song_page_url)\n",
    "    soup = BeautifulSoup(html_page.content, 'html.parser')\n",
    "    main_page = soup.find('div', {\"class\": \"container main-page\"})\n",
    "    main_l2 = main_page.find('div', {\"class\" : \"row\"})\n",
    "    main_l3 = main_l2.find('div', {\"class\" : \"col-xs-12 col-lg-8 text-center\"})\n",
    "    lyrics = main_l3.findAll('div')[6].text\n",
    "    return lyrics"
   ]
  },
  {
   "cell_type": "code",
   "execution_count": 15,
   "metadata": {},
   "outputs": [
    {
     "ename": "AttributeError",
     "evalue": "'NoneType' object has no attribute 'findAll'",
     "output_type": "error",
     "traceback": [
      "\u001b[0;31m\u001b[0m",
      "\u001b[0;31mAttributeError\u001b[0mTraceback (most recent call last)",
      "\u001b[0;32m<ipython-input-15-5652953b2933>\u001b[0m in \u001b[0;36m<module>\u001b[0;34m()\u001b[0m\n\u001b[0;32m----> 1\u001b[0;31m \u001b[0msongs\u001b[0m \u001b[0;34m=\u001b[0m \u001b[0mscrape_lyrics\u001b[0m\u001b[0;34m(\u001b[0m\u001b[0;34m\"https://www.azlyrics.com/lyrics/bobseger.html\"\u001b[0m\u001b[0;34m)\u001b[0m\u001b[0;34m\u001b[0m\u001b[0m\n\u001b[0m\u001b[1;32m      2\u001b[0m \u001b[0mprint\u001b[0m\u001b[0;34m(\u001b[0m\u001b[0mlen\u001b[0m\u001b[0;34m(\u001b[0m\u001b[0msongs\u001b[0m\u001b[0;34m)\u001b[0m\u001b[0;34m)\u001b[0m\u001b[0;34m\u001b[0m\u001b[0m\n\u001b[1;32m      3\u001b[0m \u001b[0mprint\u001b[0m\u001b[0;34m(\u001b[0m\u001b[0msongs\u001b[0m\u001b[0;34m[\u001b[0m\u001b[0;36m0\u001b[0m\u001b[0;34m]\u001b[0m\u001b[0;34m)\u001b[0m\u001b[0;34m\u001b[0m\u001b[0m\n",
      "\u001b[0;32m<ipython-input-13-8a36706a5535>\u001b[0m in \u001b[0;36mscrape_lyrics\u001b[0;34m(song_page_url)\u001b[0m\n\u001b[1;32m      5\u001b[0m     \u001b[0mmain_l2\u001b[0m \u001b[0;34m=\u001b[0m \u001b[0mmain_page\u001b[0m\u001b[0;34m.\u001b[0m\u001b[0mfind\u001b[0m\u001b[0;34m(\u001b[0m\u001b[0;34m'div'\u001b[0m\u001b[0;34m,\u001b[0m \u001b[0;34m{\u001b[0m\u001b[0;34m\"class\"\u001b[0m \u001b[0;34m:\u001b[0m \u001b[0;34m\"row\"\u001b[0m\u001b[0;34m}\u001b[0m\u001b[0;34m)\u001b[0m\u001b[0;34m\u001b[0m\u001b[0m\n\u001b[1;32m      6\u001b[0m     \u001b[0mmain_l3\u001b[0m \u001b[0;34m=\u001b[0m \u001b[0mmain_l2\u001b[0m\u001b[0;34m.\u001b[0m\u001b[0mfind\u001b[0m\u001b[0;34m(\u001b[0m\u001b[0;34m'div'\u001b[0m\u001b[0;34m,\u001b[0m \u001b[0;34m{\u001b[0m\u001b[0;34m\"class\"\u001b[0m \u001b[0;34m:\u001b[0m \u001b[0;34m\"col-xs-12 col-lg-8 text-center\"\u001b[0m\u001b[0;34m}\u001b[0m\u001b[0;34m)\u001b[0m\u001b[0;34m\u001b[0m\u001b[0m\n\u001b[0;32m----> 7\u001b[0;31m     \u001b[0mlyrics\u001b[0m \u001b[0;34m=\u001b[0m \u001b[0mmain_l3\u001b[0m\u001b[0;34m.\u001b[0m\u001b[0mfindAll\u001b[0m\u001b[0;34m(\u001b[0m\u001b[0;34m'div'\u001b[0m\u001b[0;34m)\u001b[0m\u001b[0;34m[\u001b[0m\u001b[0;36m6\u001b[0m\u001b[0;34m]\u001b[0m\u001b[0;34m.\u001b[0m\u001b[0mtext\u001b[0m\u001b[0;34m\u001b[0m\u001b[0m\n\u001b[0m\u001b[1;32m      8\u001b[0m     \u001b[0;32mreturn\u001b[0m \u001b[0mlyrics\u001b[0m\u001b[0;34m\u001b[0m\u001b[0m\n",
      "\u001b[0;31mAttributeError\u001b[0m: 'NoneType' object has no attribute 'findAll'"
     ]
    }
   ],
   "source": [
    "songs = scrape_lyrics(\"https://www.azlyrics.com/lyrics/bobseger.html\")\n",
    "print(len(songs))\n",
    "print(songs[0])"
   ]
  },
  {
   "cell_type": "markdown",
   "metadata": {},
   "source": [
    "## Visualizing\n",
    "Generate two bar graphs to compare lyrical changes for the artist of your chose. For example, the two bar charts could compare the lyrics for two different songs or two different albums."
   ]
  },
  {
   "cell_type": "code",
   "execution_count": null,
   "metadata": {},
   "outputs": [],
   "source": [
    "#Use this block for your code!"
   ]
  },
  {
   "cell_type": "markdown",
   "metadata": {},
   "source": [
    "## Level - Up\n",
    "\n",
    "Think about how you structured the data from your web scraper. Did you scrape the entire song lyrics verbatim? Did you simply store the words and their frequency counts, or did you do something else entirely? List out a few different options for how you could have stored this data. What are advantages and disadvantages of each? Be specific and think about what sort of analyses each representation would lend itself to."
   ]
  },
  {
   "cell_type": "code",
   "execution_count": null,
   "metadata": {},
   "outputs": [],
   "source": [
    "#Use this block for your code!"
   ]
  },
  {
   "cell_type": "markdown",
   "metadata": {},
   "source": [
    "## Summary"
   ]
  },
  {
   "cell_type": "markdown",
   "metadata": {},
   "source": [
    "Congratulations! You've now practiced your Beautiful Soup knowledge!"
   ]
  }
 ],
 "metadata": {
  "kernelspec": {
   "display_name": "Python 3",
   "language": "python",
   "name": "python3"
  },
  "language_info": {
   "codemirror_mode": {
    "name": "ipython",
    "version": 3
   },
   "file_extension": ".py",
   "mimetype": "text/x-python",
   "name": "python",
   "nbconvert_exporter": "python",
   "pygments_lexer": "ipython3",
   "version": "3.6.6"
  }
 },
 "nbformat": 4,
 "nbformat_minor": 2
}
